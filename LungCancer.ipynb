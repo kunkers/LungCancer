{
 "cells": [
  {
   "cell_type": "code",
   "execution_count": 131,
   "metadata": {},
   "outputs": [],
   "source": [
    "import csv\n",
    "import pandas\n",
    "import itertools\n",
    "import numpy as np"
   ]
  },
  {
   "cell_type": "code",
   "execution_count": 132,
   "metadata": {},
   "outputs": [
    {
     "name": "stdout",
     "output_type": "stream",
     "text": [
      "Number of respondents who completed a questionnaire: 309\n",
      "\n",
      "Headers:\n",
      "['GENDER', 'AGE', 'SMOKING', 'YELLOW_FINGERS', 'ANXIETY', 'PEER_PRESSURE', 'CHRONIC_DISEASE', 'FATIGUE', 'ALLERGY', 'WHEEZING', 'ALCOHOL_CONSUMING', 'COUGHING', 'SHORTNESS_OF_BREATH', 'SWALLOWING_DIFFICULTY', 'CHEST_PAIN', 'LUNG_CANCER']\n",
      "\n",
      "Sample data:\n",
      "{'GENDER': 'M', 'AGE': '69', 'SMOKING': '0', 'YELLOW_FINGERS': '1', 'ANXIETY': '1', 'PEER_PRESSURE': '0', 'CHRONIC_DISEASE': '0', 'FATIGUE': '1', 'ALLERGY': '0', 'WHEEZING': '1', 'ALCOHOL_CONSUMING': '1', 'COUGHING': '1', 'SHORTNESS_OF_BREATH': '1', 'SWALLOWING_DIFFICULTY': '1', 'CHEST_PAIN': '1', 'LUNG_CANCER': 'YES'}\n"
     ]
    }
   ],
   "source": [
    "def exctract_data(path_file):\n",
    "    with open(path_file, newline='') as csvfile:\n",
    "        reader = csv.reader(csvfile)\n",
    "        headers = next(reader)\n",
    "        dataset = []\n",
    "        for row in reader:\n",
    "            dataset.extend([dict(zip(headers, row))])\n",
    "    return dataset, headers\n",
    "\n",
    "dataset, headers = exctract_data('Data/survey_lung_cancer.csv')\n",
    "\n",
    "print(\"Number of respondents who completed a questionnaire: %s\\n\" % len(dataset)) \n",
    "# Headers:\n",
    "print(\"Headers:\\n%s\" % headers)\n",
    "#Example data sample:\n",
    "print(\"\\nSample data:\\n%s\" % dataset[0])"
   ]
  },
  {
   "cell_type": "markdown",
   "metadata": {},
   "source": [
    "\n",
    "\n",
    "# Basic data analyze"
   ]
  },
  {
   "cell_type": "code",
   "execution_count": 156,
   "metadata": {
    "scrolled": true
   },
   "outputs": [
    {
     "name": "stdout",
     "output_type": "stream",
     "text": [
      "-- FACTOR --        \tM  \tF  \n",
      "------------        \t---\t---\n",
      "GENDER              \t162\t147\n",
      "\n",
      "                    \tAverage\tStandard deviation\n",
      "------------        \t---\t---\n",
      "AGE                 \t61 \t14.302\n",
      "\n",
      "                    \t0  \t1  \n",
      "------------        \t---\t---\n",
      "ALCOHOL_CONSUMING   \t137\t172\n",
      "ALLERGY             \t137\t172\n",
      "ANXIETY             \t155\t154\n",
      "CHEST_PAIN          \t137\t172\n",
      "CHRONIC_DISEASE     \t153\t156\n",
      "COUGHING            \t130\t179\n",
      "FATIGUE             \t101\t208\n",
      "PEER_PRESSURE       \t154\t155\n",
      "SHORTNESS_OF_BREATH \t111\t198\n",
      "SMOKING             \t136\t173\n",
      "SWALLOWING_DIFFICULTY\t164\t145\n",
      "WHEEZING            \t137\t172\n",
      "YELLOW_FINGERS      \t133\t176\n",
      "\n",
      "                    \tYES\tNO \n",
      "------------        \t---\t---\n",
      "LUNG_CANCER         \t270\t39 \n",
      "\n"
     ]
    }
   ],
   "source": [
    "factors_set = [{}, {}, {}, {}, {}, {}, {}, {}, {}, {}, {}, {}, {}, {}, {}, {}]\n",
    "\n",
    "for data in dataset:\n",
    "    for i,header in enumerate(headers):\n",
    "        factors_set[i][data[header]] = factors_set[i].get(data[header], 0) + 1\n",
    "\n",
    "factors_set = dict(zip(headers,factors_set))\n",
    "        \n",
    "def print_results(factors_set):\n",
    "    title_tab = '{0: <20}'\n",
    "    val_tab = '\\t{0: <3}'\n",
    "    segment = (title_tab.format('------------') + val_tab.format('---') + val_tab.format('---'))\n",
    "    title_gender = title_tab.format('-- FACTOR --') + val_tab.format('M') + val_tab.format('F') + '\\n' + segment\n",
    "    title_age = title_tab.format('') + val_tab.format('Average') + val_tab.format('Standard deviation') + '\\n' + segment\n",
    "    title_binary = title_tab.format('') + val_tab.format('0') + val_tab.format('1') + '\\n' + segment\n",
    "    title_lung_cancer = title_tab.format('') + val_tab.format('YES') + val_tab.format('NO') + '\\n' + segment\n",
    "    binary = ''\n",
    "    \n",
    "    for factor, val in sorted(factors_set.items()):\n",
    "        if(factor == 'GENDER'):\n",
    "            gender = (title_tab.format(factor) + val_tab.format(val['M']) + val_tab.format(val['F']) + '\\n')\n",
    "        elif(factor == 'AGE'):\n",
    "            _sum = [] \n",
    "            for a in val:\n",
    "                _sum.append(int(a))\n",
    "            age = (title_tab.format(factor) + val_tab.format(int(round(np.mean(_sum)))) + val_tab.format(round(np.std(_sum), 3)) + '\\n')\n",
    "        elif(factor == 'LUNG_CANCER'):\n",
    "            lung_cancer = (title_tab.format(factor) + val_tab.format(val['YES']) + val_tab.format(val['NO']) + '\\n')\n",
    "        else: \n",
    "            binary += (title_tab.format(factor) + val_tab.format(val['0']) + val_tab.format(val['1']) + '\\n')\n",
    "    \n",
    "    print(title_gender)\n",
    "    print(gender)\n",
    "    print(title_age)\n",
    "    print(age)\n",
    "    print(title_binary)\n",
    "    print(binary)\n",
    "    print(title_lung_cancer)\n",
    "    print(lung_cancer)\n",
    "    \n",
    "print_results(factors_set)"
   ]
  },
  {
   "cell_type": "code",
   "execution_count": null,
   "metadata": {},
   "outputs": [],
   "source": []
  }
 ],
 "metadata": {
  "kernelspec": {
   "display_name": "Python 3",
   "language": "python",
   "name": "python3"
  },
  "language_info": {
   "codemirror_mode": {
    "name": "ipython",
    "version": 3
   },
   "file_extension": ".py",
   "mimetype": "text/x-python",
   "name": "python",
   "nbconvert_exporter": "python",
   "pygments_lexer": "ipython3",
   "version": "3.6.5"
  }
 },
 "nbformat": 4,
 "nbformat_minor": 2
}
